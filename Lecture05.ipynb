{
 "cells": [
  {
   "cell_type": "markdown",
   "metadata": {},
   "source": [
    "# CE2 Mathematics: Probability & Statistics 2018 \n",
    "# Lecture 5 - Chapter 2\n",
    "## Sections 2.3: Continuous Random Variables"
   ]
  },
  {
   "cell_type": "markdown",
   "metadata": {},
   "source": [
    "### To launch the notebook:\n",
    "- From the menu above, select `Kernel` and `Restart & Run All`.  \n",
    "- Make sure that the `%matplotlib inline` and `%run Codes/Lecture05.ipy` cells were executed without an error. A number will appear to the left of each (e.g. `In [1]`) if successful.\n",
    "- If you prefer to follow the lecture in slide format, select the Lecture Overview cell and click on the RISE button <kbd><i class=\"fa-bar-chart fa\"></i></kbd> in the menu above\n",
    "\n",
    "### Solutions to worked problems during the lecture:\n",
    "- The answers are encoded by passwords; the information regarding the format of the password can be found by hovering your mouse over the <i class=\"fa fa-info-circle fa-2x\" title=\"Password details\"></i> icon\n",
    "- Type your answer within the quotes in `password''`, then type `Shift` and `Enter` (or click the `>| Run` button above). If you get it correct, the full solution will be displayed. If the answer is incorrect, a random string of text will appear."
   ]
  },
  {
   "cell_type": "code",
   "execution_count": 1,
   "metadata": {
    "slideshow": {
     "slide_type": "skip"
    }
   },
   "outputs": [],
   "source": [
    "%matplotlib inline"
   ]
  },
  {
   "cell_type": "code",
   "execution_count": 2,
   "metadata": {
    "slideshow": {
     "slide_type": "skip"
    }
   },
   "outputs": [],
   "source": [
    "%run Codes/Lecture05.ipy"
   ]
  },
  {
   "cell_type": "markdown",
   "metadata": {
    "slideshow": {
     "slide_type": "slide"
    }
   },
   "source": [
    "## Lecture Overview\n",
    "The lecture today will start Section 2.3 in Chapter 2 concerning **continuous** random variables.  The terms we introduced are directly related to those presented for discrete random variables:\n",
    "\n",
    "- 2.3 **Continuous Random Variables**\n",
    "  - 2.3 **Cumulative Distribution Function, CDF: $F_X(x)=P(X \\le x)$**\n",
    "  - 2.3.1 **Expectation $E[X]$ and Variance $Var[X]$** \n",
    "  - Examples: Wave function and Kinetic theory"
   ]
  },
  {
   "cell_type": "markdown",
   "metadata": {
    "slideshow": {
     "slide_type": "slide"
    }
   },
   "source": [
    "## 2.3 Continuous Random Variables\n",
    "- A random variable is **continuous** if it represents a quantity that is _measured_ (as opposed to counted). \n",
    "\n",
    "- NOTE: There is a slight change in nomenclature between discrete and continuous random variables; instead of probability mass functions (PMFs) we have probability **density** functions (PDFs).  $\\color{red}{\\text{Both are referred to as } f_X(x)}$!\n",
    "\n",
    "- A random variable $X$ is continuous if there exists a function $f_X(x)$, the **probability density function** (PDF) of $X$, with the property:\n",
    "$$P(a < X < b) =  \\int_{a}^{b} f_X(x) \\; dx = F_X(b) - F_X(a)$$\n",
    "Integrating the PDF over an interval $(a, b)$ gives the probability that $X$ takes a value _within_ that interval."
   ]
  },
  {
   "cell_type": "markdown",
   "metadata": {
    "slideshow": {
     "slide_type": "subslide"
    }
   },
   "source": [
    "- **Cumulative Distribution Function:** If we let $a \\rightarrow -\\infty$, the probability $F_X(a)$ becomes $0$ and we can write:\n",
    "$$F_X(b) = P(X \\le b) = \\int_{-\\infty}^{b} f_X(x) \\; dx$$\n",
    "\n",
    "- **Important:** We can define the PDF $f_X(x)$ as the derivative of the CDF $F_X(x)$:\n",
    "$$f_X(x) = \\frac{d}{dx}F_X(x)$$\n",
    "\n",
    "- Similar to a PMF, a function $f_X(x)$ is a PDF for a continuous random variable $X$ if and only if:\n",
    "\\begin{align}\n",
    "\\text{1. } \\quad &  f_X(x) \\ge 0 \\text{, } \\forall x \\in \\mathbb{R} \\\\\n",
    "\\text{2. } \\quad & \\int_{-\\infty}^{\\infty} f_X(x)\\; dx = 1 \n",
    "\\end{align}"
   ]
  },
  {
   "cell_type": "markdown",
   "metadata": {
    "slideshow": {
     "slide_type": "slide"
    }
   },
   "source": [
    "### Relationship between PDF and CDF:"
   ]
  },
  {
   "cell_type": "code",
   "execution_count": 3,
   "metadata": {
    "slideshow": {
     "slide_type": "fragment"
    }
   },
   "outputs": [
    {
     "data": {
      "application/vnd.jupyter.widget-view+json": {
       "model_id": "64fea8e5af254f548856ae3dec370c45",
       "version_major": 2,
       "version_minor": 0
      },
      "text/plain": [
       "HBox(children=(HTMLMath(value='$F_X(X = b) = P(X < b)$', layout=Layout(width='20%')), FloatSlider(value=0.75, …"
      ]
     },
     "metadata": {},
     "output_type": "display_data"
    },
    {
     "data": {
      "application/vnd.jupyter.widget-view+json": {
       "model_id": "c587a7e6c77847dc8d1251ecfc2bb254",
       "version_major": 2,
       "version_minor": 0
      },
      "text/plain": [
       "Output()"
      ]
     },
     "metadata": {},
     "output_type": "display_data"
    }
   ],
   "source": [
    "display(HBox([rel_text, crit_sl]), cdf_pdf_out)"
   ]
  },
  {
   "cell_type": "markdown",
   "metadata": {
    "slideshow": {
     "slide_type": "slide"
    }
   },
   "source": [
    "## 2.3.1 Expectation and Variance: Continuous RVs\n",
    "- All our definitions for the moments of the PDF $f_X(x)$ yield the same results (i.e. expectation $E[X]$ and variance $Var[X]$ equations), except we replace summations with integrations!\n",
    "\\begin{align}\n",
    "M_{\\color{blue}{n}}^{\\color{red}{c}} &= \\int_{-\\infty}^{\\infty} (x-\\color{red}{c})^{\\color{blue}{n}} \\; f_X(x) \\; dx \\\\\n",
    "M_{\\color{blue}{0}}^{\\color{red}{0}} &= \\int_{-\\infty}^{\\infty} f_X(x) \\; dx  \\quad \\color{green}{(= 1)} \\\\\n",
    "M_{\\color{blue}{1}}^{\\color{red}{0}} &= \\int_{-\\infty}^{\\infty} x \\; f_X(x) \\; dx \\quad  \\color{green}{(= E[X])} \\\\\n",
    "M_{\\color{blue}{2}}^{\\color{red}{E[X]}} &=  \\int_{-\\infty}^{\\infty} (x-\\color{red}{E[X]})^{\\color{blue}{2}} \\; f_X(x) \\; dx \\quad \\color{green}{(= Var[X])} \n",
    "\\end{align}"
   ]
  },
  {
   "cell_type": "markdown",
   "metadata": {
    "slideshow": {
     "slide_type": "subslide"
    }
   },
   "source": [
    "- Similarly, we define the expectation of a function $g(X)$ of $X$ to be:\n",
    "$$E[g(X)] = \\int_{-\\infty}^{\\infty} g(x) f_X(x)\\; dx$$\n",
    "\n",
    "- and note that the definition of the variance derived for discrete RVs remains the same for continuous RVs:\n",
    "$$Var[X] = E[(X - E[X])^2] = E[X^2] - E[X]^2$$\n",
    "\n",
    "\n",
    "- The remainder of our lectures in Chapter 2 will provide examples of continuous random variables, including real problems such as a wave function from PoM and residence time distributions for chemical reactors."
   ]
  },
  {
   "cell_type": "markdown",
   "metadata": {
    "slideshow": {
     "slide_type": "slide"
    }
   },
   "source": [
    "## 2.3 Example: PDF of a Wave Function from PoM Course\n",
    "- Recall in PoM: provided a \"**wave function**\", $\\Psi$, for the \"particle in a box problem\" <i class=\"fa fa-info-circle\" title=\"Example: wave function of an electron in a conjugated polene.\"></i> that satisfies the Schrödinger equation:\n",
    "$$-\\frac{\\hslash^2}{2m}\\frac{d^2 \\Psi(x)}{dx^2} = E \\Psi(x)$$\n",
    "\n",
    "- General solution:\n",
    "\\begin{align}\n",
    "\\Psi_k(x) &=   C \\sin kx + D \\cos kx \\\\\n",
    "E_k &= \\frac{k^2 \\hslash^2}{2m}\n",
    "\\end{align}\n",
    "\n",
    "- Must satisfy the **boundary conditions** $\\Psi_k(x=0)=0$ and $\\Psi_k(x=L)=0$.  Find the values for $D$ and $k$ that satify these B.C.s <i class=\"fa fa-info-circle fa-2x\" title=\"The password is the answer for k.\"></i>"
   ]
  },
  {
   "cell_type": "code",
   "execution_count": 4,
   "metadata": {},
   "outputs": [
    {
     "data": {
      "text/markdown": [
       "\\begin{align}\n",
       "               x = 0: &\\quad C \\sin{0} + D \\cos{0} = 0 \\implies D = 0 \\\\\n",
       "               x = L: &\\quad C \\sin{(kL)} = 0 \\implies kL = n \\pi \\implies k = \\frac{n \\pi}{L}\n",
       "               \\end{align}"
      ],
      "text/plain": [
       "<IPython.core.display.Markdown object>"
      ]
     },
     "execution_count": 4,
     "metadata": {},
     "output_type": "execute_result"
    }
   ],
   "source": [
    "display_answer(question=0, password='n*pi/L')"
   ]
  },
  {
   "cell_type": "markdown",
   "metadata": {
    "slideshow": {
     "slide_type": "slide"
    }
   },
   "source": [
    "- Resulting wave function for a particle in a box:\n",
    "$$\\Psi_n(x) = C \\sin \\frac{n \\pi x}{L} \\;\\;\\;\\;\\; 0 \\leq x \\leq L \\;\\;\\;\\;\\; n=1,2,..$$\n",
    "\n",
    "     - Where $n$ is referred to as the **quantum number** \n",
    "$$ $$\n",
    "- **Born interpretation** <i class=\"fa fa-info-circle\" title=\"Max Born (see https://en.wikipedia.org/wiki/Max_Born) suggested the probability of finding a particle at a point is proportional to Ψ² evaluated at that point.\"></i> of the wave function \n",
    "    - The **PDF** for finding a particle is: \n",
    "$$f_X(x) = \\left| \\Psi(x) \\right|^2$$\n",
    "$$ $$\n",
    "    - What properties must $f_X(x)$ have to be a valid PDF?"
   ]
  },
  {
   "cell_type": "markdown",
   "metadata": {
    "slideshow": {
     "slide_type": "slide"
    }
   },
   "source": [
    "- Normalising the wave function (squared):\n",
    "\\begin{align}\n",
    "\\int_{0}^{L} \\left( \\Psi_n(x) \\right)^2 \\; dx &= 1 \\\\\n",
    "\\int_{0}^{L} C^2 \\sin^2 \\frac{n \\pi x}{L} \\; dx &= 1 \\\\\n",
    "\\cdots &= \\cdots\n",
    "\\end{align}\n",
    "<i class=\"fa fa-question-circle fa-2x\" title=\"Hint: a useful relationship is sin²(x) = ½(1-cos 2x)\"></i>\n",
    "<i class=\"fa fa-info-circle fa-2x\" title=\"The password is the answer for C².\"></i>"
   ]
  },
  {
   "cell_type": "code",
   "execution_count": 5,
   "metadata": {
    "slideshow": {
     "slide_type": "fragment"
    }
   },
   "outputs": [
    {
     "data": {
      "text/markdown": [
       "\\begin{align}\n",
       "               \\frac{C^2}{2} \\int_0^L \\left( 1 - \\cos{\\frac{2 n \\pi x}{L}} \\right) \\; dx &= 1 \\\\\n",
       "               \\frac{C^2}{2} \\left[ x - \\frac{L}{2 n \\pi} \\cdot \\sin{\\frac{2 n \\pi x}{L}} \\right]_0^L &= 1 \\\\\n",
       "               \\frac{C^2 L}{2} &= 1 \\implies C = \\sqrt{\\frac{2}{L}}\n",
       "               \\end{align}"
      ],
      "text/plain": [
       "<IPython.core.display.Markdown object>"
      ]
     },
     "execution_count": 5,
     "metadata": {},
     "output_type": "execute_result"
    }
   ],
   "source": [
    "display_answer(question=1, password='2/L')"
   ]
  },
  {
   "cell_type": "markdown",
   "metadata": {
    "slideshow": {
     "slide_type": "slide"
    }
   },
   "source": [
    "- Final PDF for a particle in a box of length $L$ (given in PoM):\n",
    "$$f_X(x) = \\Psi_n(x)^2  =  \\frac{2}{L} \\sin^2 \\frac{n \\pi x}{L} \\qquad 0 \\leq x \\leq L$$ \n",
    "\n",
    "- How does the wave function change for different values of the quantum number $n$ (taking $L=1$ nm)?"
   ]
  },
  {
   "cell_type": "code",
   "execution_count": 6,
   "metadata": {
    "slideshow": {
     "slide_type": "subslide"
    }
   },
   "outputs": [
    {
     "data": {
      "application/vnd.jupyter.widget-view+json": {
       "model_id": "b12e1566579144068d3d0bb47c26cbb1",
       "version_major": 2,
       "version_minor": 0
      },
      "text/plain": [
       "interactive(children=(IntSlider(value=1, continuous_update=False, description='n:', layout=Layout(width='80%')…"
      ]
     },
     "metadata": {},
     "output_type": "display_data"
    },
    {
     "data": {
      "text/plain": [
       "<function __main__.l5_particle_in_a_box_1(n)>"
      ]
     },
     "execution_count": 6,
     "metadata": {},
     "output_type": "execute_result"
    }
   ],
   "source": [
    "wgt.interact(l5_particle_in_a_box_1, n = wgt.IntSlider(min=1,max=30,step=1,value=1,continuous_update=False,description='n:', layout=Layout(width='80%')))"
   ]
  },
  {
   "cell_type": "markdown",
   "metadata": {
    "slideshow": {
     "slide_type": "slide"
    }
   },
   "source": [
    "### 2.3 Expected position of particle in a box\n",
    "- Expected position of the particle = Expectation ($E[X]$; often represented in physics textbooks as $\\langle x \\rangle$)\n",
    "\\begin{align}\n",
    "\tE[X] &= \\int_{-\\infty}^{\\infty} x \\; f_X(x) \\; dx \\\\\n",
    "\t &= \\int_{0}^{L} x \\; \\frac{2}{L} \\sin^2 \\frac{n \\pi x}{L} \\; dx  \n",
    "\\end{align}\n",
    "\n",
    "- Requires integration by parts (important technique to know):\n",
    "\\begin{align}\n",
    "\\int u \\; dv  &= u v - \\int v \\; du \\\\\n",
    "\\\\\n",
    "\\text{where: } \\; u = x \\quad &\\rightarrow \\quad du = \\cdots  \\\\\n",
    "\\\\\n",
    "dv = \\frac{2}{L} \\sin^2 \\frac{n \\pi x}{L} & \\\\\n",
    "dv = \\frac{1}{L}\\left(1 - \\cos \\frac{2 n \\pi x}{L}\\right) \\quad & \\rightarrow \\quad v = \\cdots\n",
    "\\end{align} \n",
    "<i class=\"fa fa-question-circle fa-2x\" title=\"Hint: a useful relationship is sin²(x) = ½(1-cos 2x)\"></i>\n",
    "<i class=\"fa fa-info-circle fa-2x\" title=\"The password is the first term in the answer for v.\"></i>"
   ]
  },
  {
   "cell_type": "code",
   "execution_count": 7,
   "metadata": {
    "slideshow": {
     "slide_type": "-"
    }
   },
   "outputs": [
    {
     "data": {
      "text/markdown": [
       "\\begin{align}\n",
       "               du &= 1 \\\\\n",
       "               v &= \\frac{1}{L} \\left( x - \\frac{L}{2 n \\pi} \\cdot sin \\frac{2 n \\pi x}{L} \\right)\n",
       "               \\end{align}"
      ],
      "text/plain": [
       "<IPython.core.display.Markdown object>"
      ]
     },
     "execution_count": 7,
     "metadata": {},
     "output_type": "execute_result"
    }
   ],
   "source": [
    "display_answer(question=2, password='x/L')"
   ]
  },
  {
   "cell_type": "markdown",
   "metadata": {
    "slideshow": {
     "slide_type": "slide"
    }
   },
   "source": [
    "- Expected position of the particle $E[X]$: Integration by parts\n",
    "\n",
    "\\begin{align}\n",
    "uv &= \\cdots \\\\\n",
    "\\int v \\; du &= \\cdots\n",
    "\\end{align}\n",
    "\n",
    "<i class=\"fa fa-info-circle fa-2x\" title=\"The password is the final answer in terms of L.\"></i>"
   ]
  },
  {
   "cell_type": "code",
   "execution_count": 8,
   "metadata": {
    "slideshow": {
     "slide_type": "-"
    }
   },
   "outputs": [
    {
     "data": {
      "text/markdown": [
       "\\begin{align}\n",
       "               uv &= \\left[ \\frac{x^2}{L} - \\frac{x}{2 n \\pi} \\cdot \\sin{\\frac{2 n \\pi x}{L}} \\right]_0^L \\\\\n",
       "               &= (L - 0) - (0) = L \\\\\n",
       "               \\int v \\; du &= \\frac{1}{L} \\int_0^L \\left( x - \\frac{L}{2 n \\pi} \\cdot \\sin{\\frac{2 n \\pi x}{L}} \\right) \\; dx \\\\\n",
       "               &= \\frac{1}{L} \\left[ \\frac{x^2}{2} + \\frac{L^2}{4 n^2 \\pi^2} \\cdot \\cos{\\frac{2 n \\pi x}{L}} \\right]_0^L \\\\\n",
       "               &= \\frac{L^2}{2L} = \\frac{L}{2}\n",
       "               \\end{align}"
      ],
      "text/plain": [
       "<IPython.core.display.Markdown object>"
      ]
     },
     "execution_count": 8,
     "metadata": {},
     "output_type": "execute_result"
    }
   ],
   "source": [
    "display_answer(question=3, password='L/2')"
   ]
  },
  {
   "cell_type": "markdown",
   "metadata": {
    "slideshow": {
     "slide_type": "slide"
    }
   },
   "source": [
    "- Expected position of a particle in a box: $E[X]$\n",
    "$$E[X] = L - \\frac{L}{2} = \\frac{L}{2}$$\n",
    "\n",
    "    - Notice this is independent of the quantum number (contrast to plotted PDFs for different values for $n$)\n",
    "    - How does this compare with classical mechanics ($n \\rightarrow \\infty$)?"
   ]
  },
  {
   "cell_type": "code",
   "execution_count": 9,
   "metadata": {
    "slideshow": {
     "slide_type": "-"
    }
   },
   "outputs": [
    {
     "data": {
      "text/markdown": [
       "\\begin{align}\n",
       "               \\textit{(Uniform) } \\quad f_X^u(x) &= \\frac{1}{L} \\\\\n",
       "               E[X] &= \\int_0^L x \\cdot f_x^u(x) \\; dx = \\frac{1}{L} \\int_0^L x \\; dx \\\\\n",
       "               &= \\frac{1}{L} \\cdot \\frac{L^2}{2} = \\frac{L}{2}\n",
       "               \\end{align}"
      ],
      "text/plain": [
       "<IPython.core.display.Markdown object>"
      ]
     },
     "execution_count": 9,
     "metadata": {},
     "output_type": "execute_result"
    }
   ],
   "source": [
    "display_answer(question=4, password='L/2')"
   ]
  },
  {
   "cell_type": "markdown",
   "metadata": {
    "slideshow": {
     "slide_type": "slide"
    }
   },
   "source": [
    "### 2.3 Variance in the position of a particle in a box\n",
    "- How about the variance? $Var[X] = E[X^2] - E[X]^2$ \n",
    "\\begin{align}\n",
    "E[X^2] &= \\int_{-\\infty}^{\\infty} x^2 f_X(x) \\; dx \\\\\n",
    "&= \\int_{0}^{L} x^2 \\; \\frac{2}{L} \\sin^2 \\frac{n \\pi x}{L} \\; dx  \n",
    "\\end{align}\n",
    "- Will require integration by parts twice (see Lecture Notes for wrist-breaking details)\n",
    "\\begin{align}\n",
    "E[X^2] &= L^2 - \\left[ \\frac{2L^2}{3} + \\frac{L^2}{2 n^2 \\pi^2}  \\right] \\\\\n",
    "&= \\frac{L^2}{3} - \\frac{L^2}{2 n^2 \\pi^2}\n",
    "\\end{align}"
   ]
  },
  {
   "cell_type": "markdown",
   "metadata": {
    "slideshow": {
     "slide_type": "slide"
    }
   },
   "source": [
    "- Collecting terms we have the final solution for Variance:\n",
    "\\begin{align}\n",
    "Var[X] &= E[X^2] - E[X]^2 \\\\\n",
    "&= \\frac{L^2}{3} - \\frac{L^2}{2 n^2 \\pi^2} - \\left(\\frac{L}{2}\\right)^2 \\\\\n",
    "&= \\frac{L^2}{12} - \\frac{L^2}{2 n^2 \\pi^2} \\\\\n",
    "Var[X] &= \\frac{L^2}{2} \\left(\\frac{1}{6} - \\frac{1}{n^2 \\pi^2} \\right)\n",
    "\\end{align}\n",
    "\n",
    "- Pause and Reflect 1: How does the variance change as a function of $n$?  Does this make intuitive sense?\n",
    "- Pause and Reflect 2: How do these results for the variance compare to a uniform distribution (in the limit of $n$)?\n",
    "<i class=\"fa fa-info-circle fa-2x\" title=\"The password is whether it is consistent or inconsistent with classical theory.\"></i>"
   ]
  },
  {
   "cell_type": "code",
   "execution_count": 10,
   "metadata": {
    "slideshow": {
     "slide_type": "-"
    }
   },
   "outputs": [
    {
     "data": {
      "text/markdown": [
       "\\begin{align}\n",
       "               \\textbf{P&R 1:} &\\\\\n",
       "               &\\text{Min when  $n = 1$} \\implies \\frac{1}{n^2 \\pi^2} = \\begin{cases}\n",
       "                                                                        0.101 & n = 1 \\\\\n",
       "                                                                        0.025 & n = 2\n",
       "                                                                        \\end{cases} \\\\\n",
       "               \\textbf{P&R 2:} &\\\\\n",
       "               &\\lim_{n \\to \\infty} Var[X] = \\frac{L^2}{12}\n",
       "               \\end{align}"
      ],
      "text/plain": [
       "<IPython.core.display.Markdown object>"
      ]
     },
     "execution_count": 10,
     "metadata": {},
     "output_type": "execute_result"
    }
   ],
   "source": [
    "display_answer(question=5, password='consistent')"
   ]
  },
  {
   "cell_type": "markdown",
   "metadata": {
    "slideshow": {
     "slide_type": "slide"
    }
   },
   "source": [
    "### Comparing the PDF for the Wave Function as $n$ increases to the classical mechanics solution"
   ]
  },
  {
   "cell_type": "code",
   "execution_count": 11,
   "metadata": {
    "slideshow": {
     "slide_type": "-"
    }
   },
   "outputs": [
    {
     "data": {
      "application/vnd.jupyter.widget-view+json": {
       "model_id": "26a459dffa2548a5bae01715d8f7eecb",
       "version_major": 2,
       "version_minor": 0
      },
      "text/plain": [
       "interactive(children=(IntSlider(value=1, continuous_update=False, description='n:', layout=Layout(width='80%')…"
      ]
     },
     "metadata": {},
     "output_type": "display_data"
    },
    {
     "data": {
      "text/plain": [
       "<function __main__.l5_particle_in_a_box_2(n)>"
      ]
     },
     "execution_count": 11,
     "metadata": {},
     "output_type": "execute_result"
    }
   ],
   "source": [
    "wgt.interact(l5_particle_in_a_box_2, n = wgt.IntSlider(min=1,max=30,step=1,value=1,continuous_update=False,description='n:', layout=Layout(width='80%')))"
   ]
  },
  {
   "cell_type": "markdown",
   "metadata": {
    "slideshow": {
     "slide_type": "slide"
    }
   },
   "source": [
    "## 2.3 Example: Collision times in kinetic theory\n",
    "- For a molecule travelling at velocity $v$, let us define the following **survival probability**:\n",
    "\\begin{align}\n",
    "P(t) &= \\text{Probability that a molecule survives} \\\\\n",
    "& \\quad \\text{until a time $t$ } \\textit{without} \\text{ a collision} \n",
    "\\end{align}\n",
    "\n",
    "\n",
    "- We can reason the following boundary conditions about $P(t)$:\n",
    "\\begin{align}\n",
    "P(t = 0) &= 1 \\\\\n",
    "P(t \\rightarrow \\infty) &= 0\n",
    "\\end{align}"
   ]
  },
  {
   "cell_type": "code",
   "execution_count": 12,
   "metadata": {
    "slideshow": {
     "slide_type": "-"
    }
   },
   "outputs": [
    {
     "data": {
      "image/png": "[encoded data removed]",
      "text/plain": [
       "<Figure size 4200x2100 with 1 Axes>"
      ]
     },
     "metadata": {},
     "output_type": "display_data"
    }
   ],
   "source": [
    "x = np.linspace(0, 4, 100); plt.plot(x, expon.pdf(x)); plt.xticks([]); plt.xlabel('$t$'); plt.ylabel('$P(t)$');"
   ]
  },
  {
   "cell_type": "markdown",
   "metadata": {
    "slideshow": {
     "slide_type": "slide"
    }
   },
   "source": [
    "- We can also define the probability that a collision takes place over a time interval from $t$ to $t + dt$.\n",
    "- Let $w$ denote the **collision rate** (i.e. the probability per unit time that a molecule suffers a collision).  Then:\n",
    "\\begin{align}\n",
    "\tw \\cdot dt &= \\textit{Probability} \\text{ that a molecule experiences a} \\\\\n",
    "\t& \\quad \\text{collision between times $t$ and $t+dt$} \n",
    "\\end{align}\n",
    "- Assumption: Collision rate $w$ is independent of past history of the molecule"
   ]
  },
  {
   "attachments": {
    "Collision.svg": {
     "image/svg+xml": [
      "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"
     ]
    }
   },
   "cell_type": "markdown",
   "metadata": {
    "slideshow": {
     "slide_type": "subslide"
    }
   },
   "source": [
    "![Collision.svg](attachment:Collision.svg)"
   ]
  },
  {
   "cell_type": "markdown",
   "metadata": {
    "slideshow": {
     "slide_type": "slide"
    }
   },
   "source": [
    "- Analogous to our 1-D Random Walk example, we can express the survival probability $P(t)$ as a function of the probability that a collision takes place (i.e. $w \\cdot dt$) over a given time interval: \n",
    "$$P(t+dt) = \\cdots$$\n",
    "- We can also express $P(t+dt)$ using a Taylor Series expansion:\n",
    "$$P(t+dt) = \\cdots$$\n",
    "- Equating the two expressions and solving for $P(t)$ we get the following survival probability:\n",
    "$$ \\cdots $$\n",
    "<i class=\"fa fa-info-circle fa-2x\" title=\"The password is the final expression for P(t).\"></i>"
   ]
  },
  {
   "cell_type": "code",
   "execution_count": 13,
   "metadata": {
    "slideshow": {
     "slide_type": "fragment"
    }
   },
   "outputs": [
    {
     "data": {
      "text/markdown": [
       "\\begin{align}\n",
       "               P(t + dt) &= P(t) \\cdot (1 - w \\cdot dt) \\\\\n",
       "               P(t + dt) &= P(t) + \\frac{d P(t)}{dt} dt \\qquad \\textit{(Taylor Series)} \\\\ \\\\\n",
       "               \\frac{d P(t)}{dt} dt &= - P(t) w \\; dt \\qquad \\textit{(Equating two expressions)} \\\\\n",
       "               \\implies \\int_1^P \\frac{d P(t)}{P(t)} &= - \\int_0^t w \\; dt \\\\\n",
       "               \\ln{P} - \\ln{0} &= - wt \\\\\n",
       "               P(t) &= e^{-wt}\n",
       "               \\end{align}"
      ],
      "text/plain": [
       "<IPython.core.display.Markdown object>"
      ]
     },
     "execution_count": 13,
     "metadata": {},
     "output_type": "execute_result"
    }
   ],
   "source": [
    "display_answer(question=6, password='e^(-wt)')"
   ]
  },
  {
   "cell_type": "markdown",
   "metadata": {
    "slideshow": {
     "slide_type": "slide"
    }
   },
   "source": [
    "- Recall that $P(t)$ represents the probability the molecule _survives_ from time zero until time $t$ without a collision.  Thus, the probability that the molecule _collides for the first time_ during the time interval $(0,t)$ is equal to:\n",
    "$$F(t) = \\cdots$$\n",
    "- Note that $F(t)$ is a cumulative distribution function (CDF)! Thus we can define the probability density function (PDF) for collisions as:\n",
    "$$f(t) =  \\frac{dF(t)}{dt} = \\cdots$$\n",
    "- And from this we can compute a mean collision time:\n",
    "$$ \\cdots $$\n",
    "\n",
    "<i class=\"fa fa-info-circle fa-2x\" title=\"The password is the expression for E[T].\"></i>"
   ]
  },
  {
   "cell_type": "code",
   "execution_count": 14,
   "metadata": {
    "slideshow": {
     "slide_type": "fragment"
    }
   },
   "outputs": [
    {
     "data": {
      "text/markdown": [
       "\\begin{align}\n",
       "               F(t) &= 1 - P(t) \\\\\n",
       "               f(t) &= \\frac{dF(t)}{dt} = - \\frac{dP(t)}{dt} = w e^{-wt} \\\\\n",
       "               E[T] &= \\int_0^\\infty t \\cdot w e^{-wt} \\; dt \\\\ \\hline\n",
       "               & \\qquad \\int u \\; dv = uv - \\int v \\; du \\\\\n",
       "               & \\qquad u = t \\to du = 1 \\\\\n",
       "               & \\qquad dv = w e^{-wt} \\to v = -w^{-wt} \\\\ \\hline\n",
       "               E[T] &= \\left[ -t e^{-wt} \\right]_0^\\infty + \\int_0^\\infty e^{-wt} \\; dt \\\\\n",
       "               &= \\left[ - \\frac{1}{w} e^{-wt} \\right]_0^\\infty = \\frac{1}{w}\n",
       "               \\end{align}"
      ],
      "text/plain": [
       "<IPython.core.display.Markdown object>"
      ]
     },
     "execution_count": 14,
     "metadata": {},
     "output_type": "execute_result"
    }
   ],
   "source": [
    "display_answer(question=7, password='1/w')"
   ]
  },
  {
   "cell_type": "code",
   "execution_count": 15,
   "metadata": {},
   "outputs": [
    {
     "data": {
      "application/vnd.jupyter.widget-view+json": {
       "model_id": "865153736fa34733b29abbd9fed3e5c0",
       "version_major": 2,
       "version_minor": 0
      },
      "text/plain": [
       "interactive(children=(FloatSlider(value=1.0, continuous_update=False, description='w:', layout=Layout(width='8…"
      ]
     },
     "metadata": {},
     "output_type": "display_data"
    },
    {
     "data": {
      "text/plain": [
       "<function __main__.l5_collision_expo(w)>"
      ]
     },
     "execution_count": 15,
     "metadata": {},
     "output_type": "execute_result"
    }
   ],
   "source": [
    "wgt.interact(l5_collision_expo, w = wgt.FloatSlider(min=0.5,max=10,step=0.1,value=1,continuous_update=False,description='w:', layout=Layout(width='80%')))"
   ]
  },
  {
   "cell_type": "markdown",
   "metadata": {
    "slideshow": {
     "slide_type": "slide"
    }
   },
   "source": [
    "## Summary\n",
    "- This lecture introduced continuous RVs and defined:\n",
    "- Probability Density Function, PDF, $f_X(x)$: \n",
    "$$P(a < X < b) = \\int_{a}^{b} f_X(x) \\; dx$$\n",
    "- Cumulative Distribution Function, CDF, $F_X(x)$:\n",
    "$$F_X(b) = P(X \\le b) = \\int_{-\\infty}^{b} f_X(x) \\; dx$$\n",
    "- We also defined an important link between the PDF and CDF:\n",
    "$$f_X(x) = \\frac{d}{dx}F_X(x)$$\n",
    "\n",
    "\n",
    "- We reviewed examples that illustrate how to compute $E[X]$ and $Var[X]$ for continuous random variables.  Next lecture we will apply these same tools to the analysis of residence time distributions in chemical reactors."
   ]
  }
 ],
 "metadata": {
  "celltoolbar": "Slideshow",
  "kernelspec": {
   "display_name": "Python 3",
   "language": "python",
   "name": "python3"
  },
  "language_info": {
   "codemirror_mode": {
    "name": "ipython",
    "version": 3
   },
   "file_extension": ".py",
   "mimetype": "text/x-python",
   "name": "python",
   "nbconvert_exporter": "python",
   "pygments_lexer": "ipython3",
   "version": "3.6.5"
  },
  "rise": {
   "scroll": true
  }
 },
 "nbformat": 4,
 "nbformat_minor": 2
}
