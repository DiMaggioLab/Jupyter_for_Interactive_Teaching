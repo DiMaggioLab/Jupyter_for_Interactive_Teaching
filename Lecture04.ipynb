{
 "cells": [
  {
   "cell_type": "markdown",
   "metadata": {},
   "source": [
    "# CE2 Mathematics: Probability & Statistics 2018 \n",
    "# Lecture 4 - Chapter 2\n",
    "## Sections 2.2: Discrete Random Variables"
   ]
  },
  {
   "cell_type": "markdown",
   "metadata": {},
   "source": [
    "### To launch the notebook:\n",
    "- From the menu above, select `Kernel` and `Restart & Run All`.  \n",
    "- Make sure that the `%matplotlib inline` and `%run Codes/Lecture04.ipy` cells were executed without an error. A number will appear to the left of each (e.g. `In [1]`) if successful.\n",
    "- If you prefer to follow the lecture in slide format, select the Lecture Overview cell and click on the RISE button <kbd><i class=\"fa-bar-chart fa\"></i></kbd> in the menu above\n",
    "\n",
    "### Solutions to worked problems during the lecture:\n",
    "- The answers are encoded by passwords; the information regarding the format of the password can be found by hovering your mouse over the <i class=\"fa fa-info-circle fa-2x\" title=\"Password details\"></i> icon\n",
    "- Type your answer within the quotes in `password''`, then type `Shift` and `Enter` (or click the `>| Run` button above). If you get it correct, the full solution will be displayed. If the answer is incorrect, a random string of text will appear."
   ]
  },
  {
   "cell_type": "code",
   "execution_count": 1,
   "metadata": {
    "slideshow": {
     "slide_type": "skip"
    }
   },
   "outputs": [],
   "source": [
    "%matplotlib inline"
   ]
  },
  {
   "cell_type": "code",
   "execution_count": 2,
   "metadata": {
    "slideshow": {
     "slide_type": "skip"
    }
   },
   "outputs": [],
   "source": [
    "%run Codes/Lecture04.ipy"
   ]
  },
  {
   "cell_type": "markdown",
   "metadata": {
    "slideshow": {
     "slide_type": "slide"
    }
   },
   "source": [
    "## Lecture Overview\n",
    "The lecture today will finish Section 2.2 in Chapter 2 concerning discrete random variables.  Specifically we will introduce the following terms related to discrete random variables:\n",
    "- 2.2 **Discrete Random Variables**\n",
    "  - 2.2.1 **Cumulative Distribution Function, CDF: $F_X(x)=P(X \\le x)$**\n",
    "  - 2.2.1 **Expectation $E[X]$ and Variance $Var[X]$**\n",
    "  - 2.2.2 **General expressions for $E[X]$ and $Var[X]$**"
   ]
  },
  {
   "cell_type": "markdown",
   "metadata": {
    "slideshow": {
     "slide_type": "slide"
    }
   },
   "source": [
    "## 2.2.1 Moments of PMFs\n",
    "- As Chemical Engineers, we frequently utilise integral transforms and similar tools to extract features from complex functions to characterise them.\n",
    "\n",
    "\n",
    "- In probability theory, the **moments** of probability distributions are particularly insightful.\n",
    "- For a discrete random variable $X$, we define the $\\color{blue}{\\text{$n$-th moment}}$ of a PMF $\\color{red}{\\text{about a value $c$}}$ as:\n",
    "$$M_{\\color{blue}{n}}^{\\color{red}{c}} = \\sum_{\\forall x} (x-\\color{red}{c})^{\\color{blue}{n}} \\; f_X(x)$$"
   ]
  },
  {
   "cell_type": "markdown",
   "metadata": {
    "slideshow": {
     "slide_type": "slide"
    }
   },
   "source": [
    "## 2.2.1 $0^{\\text{th}}$ Moment of PMF: related to CDF $F_X(x)$\n",
    "- First let's consider the $0^{th}$ moment about zero ($\\color{blue}{n=0}, \\color{red}{c=0}$)\n",
    "$$M_{\\color{blue}{0}}^{\\color{red}{0}} = \\sum_{\\forall x} f_X(x)$$"
   ]
  },
  {
   "cell_type": "markdown",
   "metadata": {
    "slideshow": {
     "slide_type": "slide"
    }
   },
   "source": [
    "We are going to return to our \"sum of two dice\" example from last lecture to illustrate these concepts\n",
    "- To provide a little motivation, let's first watch the ''Craps'' Scene from the film Ocean's 13 (from 2:45 until about 3:30), where the dice were rigged to land on 1 and 6"
   ]
  },
  {
   "cell_type": "code",
   "execution_count": 3,
   "metadata": {
    "slideshow": {
     "slide_type": "fragment"
    }
   },
   "outputs": [
    {
     "data": {
      "image/jpeg": "[encoded data removed]",
      "text/html": [
       "\n",
       "        <iframe\n",
       "            width=\"400\"\n",
       "            height=\"300\"\n",
       "            src=\"https://www.youtube.com/embed/TkYNxAZ8mu4\"\n",
       "            frameborder=\"0\"\n",
       "            allowfullscreen\n",
       "        ></iframe>\n",
       "        "
      ],
      "text/plain": [
       "<IPython.lib.display.YouTubeVideo at 0x1a11277278>"
      ]
     },
     "execution_count": 3,
     "metadata": {},
     "output_type": "execute_result"
    }
   ],
   "source": [
    "YouTubeVideo('TkYNxAZ8mu4')"
   ]
  },
  {
   "cell_type": "code",
   "execution_count": 4,
   "metadata": {
    "slideshow": {
     "slide_type": "slide"
    }
   },
   "outputs": [
    {
     "data": {
      "application/vnd.jupyter.widget-view+json": {
       "model_id": "a72775ff358348ca89d8e6fc17567ba6",
       "version_major": 2,
       "version_minor": 0
      },
      "text/plain": [
       "HBox(children=(Text(value='1/6', description='Die 1 - Probability of 1 ($p_{11}$)', layout=Layout(width='30%')…"
      ]
     },
     "metadata": {},
     "output_type": "display_data"
    },
    {
     "data": {
      "application/vnd.jupyter.widget-view+json": {
       "model_id": "e44b28a8a1d54d4eba25c290075083b2",
       "version_major": 2,
       "version_minor": 0
      },
      "text/plain": [
       "HBox(children=(Text(value='1/6', description='Die 2 - Probability of 1 ($p_{21}$)', layout=Layout(width='30%')…"
      ]
     },
     "metadata": {},
     "output_type": "display_data"
    },
    {
     "data": {
      "application/vnd.jupyter.widget-view+json": {
       "model_id": "52f7e56749504ee28238336f8028162b",
       "version_major": 2,
       "version_minor": 0
      },
      "text/plain": [
       "HBox(children=(HTMLMath(value='For the sum of 2 dice tosses, '), HTMLMath(value='$F_X($'), BoundedIntText(valu…"
      ]
     },
     "metadata": {},
     "output_type": "display_data"
    },
    {
     "data": {
      "application/vnd.jupyter.widget-view+json": {
       "model_id": "6be9e695c49d42ea81447d72e1ffbc07",
       "version_major": 2,
       "version_minor": 0
      },
      "text/plain": [
       "Output()"
      ]
     },
     "metadata": {},
     "output_type": "display_data"
    }
   ],
   "source": [
    "display(cdf_Dice1, cdf_Dice2, cdf_HBox, cdf_out)"
   ]
  },
  {
   "cell_type": "markdown",
   "metadata": {
    "slideshow": {
     "slide_type": "fragment"
    }
   },
   "source": [
    "The red step-function above corresponds to $\\sum_{u \\leq x} f_X(u)$ for a given $x$; known as the **cumulative distribution function (CDF)**, $F_X(x)$."
   ]
  },
  {
   "cell_type": "markdown",
   "metadata": {
    "slideshow": {
     "slide_type": "slide"
    }
   },
   "source": [
    "## 2.2.1 Cumulative Distribution Function\n",
    "- The **cumulative distribution function** (CDF) of a random variable $X$ is the function:\n",
    "$$F_X(x) = P(X \\le x) \\text{ for } x \\in \\mathbb{R}$$\n",
    "- The function $F_X$ evaluated at a point $x$ is the probability that the random variable $X$ takes a value _less than or equal to_ $x$. \n",
    "\n",
    "- CDFs for discrete random variables have the following properties:\n",
    "\\begin{align}\n",
    "\\text{1. } & F_X(x) \\in [0,1] \\\\\n",
    "\\text{2. } & F_X(x) = \\sum_{u \\le x} f_X(u) \\\\\n",
    "\\text{3. } & \\text{If } y > x, \\text{ then } F_X(y) - F_X(x) = P(x < X \\le y) \\ge 0 \n",
    "\\end{align}"
   ]
  },
  {
   "cell_type": "markdown",
   "metadata": {
    "slideshow": {
     "slide_type": "slide"
    }
   },
   "source": [
    "## 2.2.1 CDF Example: Sum of Two Dice\n",
    "Let's apply the properties of the cumulative distribution function (CDF) to answer the following query for the sum of two dice:\n",
    "\n",
    "- What is **$P(X \\geq 7)$** of if the die is fair? <i class=\"fa fa-info-circle fa-2x\" title=\"The password for the answers below is the probability in the format '0.####'.  For example, '0.12345' would be '0.1235'\"></i>"
   ]
  },
  {
   "cell_type": "code",
   "execution_count": 5,
   "metadata": {
    "slideshow": {
     "slide_type": "fragment"
    }
   },
   "outputs": [
    {
     "data": {
      "text/markdown": [
       "\\begin{align}\n",
       "               P(X \\geq 7) &= 1 - F_X(6) \\\\\n",
       "               &= 1 - \\sum_{u \\leq 6} f_X(u) \\\\\n",
       "               &= 1 - (f_X(2) + f_X(3) + f_X(4) + f_X(5) + f_X(6)) \\\\\n",
       "               &= 1 - 0.4167 = 0.5833\n",
       "               \\end{align}"
      ],
      "text/plain": [
       "<IPython.core.display.Markdown object>"
      ]
     },
     "execution_count": 5,
     "metadata": {},
     "output_type": "execute_result"
    }
   ],
   "source": [
    "display_answer(question=0, password='0.5833')"
   ]
  },
  {
   "cell_type": "markdown",
   "metadata": {
    "slideshow": {
     "slide_type": "fragment"
    }
   },
   "source": [
    "- What is **$P(X \\geq 7)$** of if both die are biased and yield a 1 half of time (i.e. $p_{11}=p_{21}=1/2$)? <i class=\"fa fa-info-circle fa-2x\" title=\"The password for the answers below is the probability in the format '0.##'.  For example, '0.12345' would be '0.12'\"></i>"
   ]
  },
  {
   "cell_type": "code",
   "execution_count": 6,
   "metadata": {
    "slideshow": {
     "slide_type": "fragment"
    }
   },
   "outputs": [
    {
     "data": {
      "text/markdown": [
       "\\begin{align}\n",
       "               P(X \\geq 7) &= 1 - F_X(6) \\\\\n",
       "               &= 1 - \\sum_{u \\leq 6} f_X(u) \\\\\n",
       "               &= 1 - (f_X(2) + f_X(3) + f_X(4) + f_X(5) + f_X(6)) \\\\\n",
       "               &= 1 - 0.71 = 0.29\n",
       "               \\end{align}"
      ],
      "text/plain": [
       "<IPython.core.display.Markdown object>"
      ]
     },
     "execution_count": 6,
     "metadata": {},
     "output_type": "execute_result"
    }
   ],
   "source": [
    "display_answer(question=1, password='0.29')"
   ]
  },
  {
   "cell_type": "markdown",
   "metadata": {
    "slideshow": {
     "slide_type": "slide"
    }
   },
   "source": [
    "### Question: Which one do we need?  The CDF or the PMF? \n",
    "<i class=\"fa fa-info-circle fa-2x\" title=\"The password is the PDF, the CDF, both, or either\"></i>"
   ]
  },
  {
   "cell_type": "code",
   "execution_count": 7,
   "metadata": {
    "slideshow": {
     "slide_type": "fragment"
    }
   },
   "outputs": [
    {
     "data": {
      "text/markdown": [
       "\\begin{align}\n",
       "               \\text{If $y$ and $x$ are one value apart: } F_X(y) - F_X(x) = p(X = y) = f_X(y) \\\\\n",
       "               \\text{Thus, you only need one to specify the other} \n",
       "               \\end{align}"
      ],
      "text/plain": [
       "<IPython.core.display.Markdown object>"
      ]
     },
     "execution_count": 7,
     "metadata": {},
     "output_type": "execute_result"
    }
   ],
   "source": [
    "display_answer(question=2, password='either')"
   ]
  },
  {
   "cell_type": "markdown",
   "metadata": {
    "slideshow": {
     "slide_type": "slide"
    }
   },
   "source": [
    "## 2.2.1 $1^{\\text{st}}$ Moment of PMF: Expectation, $E[X]$\n",
    "- Next let us consider the $1^{st}$ moment of a PMF centred about zero ($\\color{blue}{n=1}, \\color{red}{c=0}$), given by:\n",
    "$$M_{\\color{blue}{1}}^{\\color{red}{0}} = \\sum_{\\forall x} x \\; f_X(x)$$"
   ]
  },
  {
   "cell_type": "code",
   "execution_count": 8,
   "metadata": {
    "slideshow": {
     "slide_type": "fragment"
    }
   },
   "outputs": [
    {
     "data": {
      "application/vnd.jupyter.widget-view+json": {
       "model_id": "88f45d23258a4414955b181e91aa389e",
       "version_major": 2,
       "version_minor": 0
      },
      "text/plain": [
       "HBox(children=(Text(value='1/6', description='Die 1 - Probability of 1 ($p_{11}$)', layout=Layout(width='30%')…"
      ]
     },
     "metadata": {},
     "output_type": "display_data"
    },
    {
     "data": {
      "application/vnd.jupyter.widget-view+json": {
       "model_id": "4e17589a667e4245b8be1ffd5980d283",
       "version_major": 2,
       "version_minor": 0
      },
      "text/plain": [
       "HBox(children=(Text(value='1/6', description='Die 2 - Probability of 1 ($p_{21}$)', layout=Layout(width='30%')…"
      ]
     },
     "metadata": {},
     "output_type": "display_data"
    },
    {
     "data": {
      "application/vnd.jupyter.widget-view+json": {
       "model_id": "44232909b1014bbeb9aa0902d48c73e0",
       "version_major": 2,
       "version_minor": 0
      },
      "text/plain": [
       "Output()"
      ]
     },
     "metadata": {},
     "output_type": "display_data"
    }
   ],
   "source": [
    "display(e_Dice1, e_Dice2, e_out)"
   ]
  },
  {
   "cell_type": "markdown",
   "metadata": {
    "slideshow": {
     "slide_type": "fragment"
    }
   },
   "source": [
    "Total summation overall $x \\cdot f_X(x)$ results in what is known as the **Expectation ($E[X]$)**, or the weighted average."
   ]
  },
  {
   "cell_type": "markdown",
   "metadata": {
    "slideshow": {
     "slide_type": "slide"
    }
   },
   "source": [
    "## 2.2.1 Expectation of a Discrete RV\n",
    "- The **expectation**, $E[X]$, of a discrete random variable $X$, also called the **expected value** or **mean** of $X$, is defined as:\n",
    "$$E[X] = \\sum_{\\forall x} x \\; f_X(x)$$\n",
    "\n",
    "- The expectation is a **weighted average** of the values $X$ can take:\n",
    "$$\\text{Weighted Avg of } x = \\frac{\\sum_i x_i \\cdot w_i}{\\sum_i w_i}$$"
   ]
  },
  {
   "cell_type": "markdown",
   "metadata": {
    "slideshow": {
     "slide_type": "slide"
    }
   },
   "source": [
    "## 2.2.1 $2^{nd}$ Moment of PMF about $E[X]$: Variance, $Var[X]$\n",
    "- Finally let's compute the $2^{nd}$ moment of our PMF centred around our expected value of $X$ ($\\color{blue}{n=2}, \\color{red}{c=E[X]}$):\n",
    "$$M_{\\color{blue}{2}}^{\\color{red}{E[X]}} = \\sum_{\\forall x} (x-\\color{red}{E[X]})^{\\color{blue}{2}} \\; f_X(x)$$\n"
   ]
  },
  {
   "cell_type": "code",
   "execution_count": 9,
   "metadata": {
    "slideshow": {
     "slide_type": "fragment"
    }
   },
   "outputs": [
    {
     "data": {
      "application/vnd.jupyter.widget-view+json": {
       "model_id": "fae95a758524415088bae2f97297b2f6",
       "version_major": 2,
       "version_minor": 0
      },
      "text/plain": [
       "HBox(children=(Text(value='1/6', description='Die 1 - Probability of 1 ($p_{11}$)', layout=Layout(width='30%')…"
      ]
     },
     "metadata": {},
     "output_type": "display_data"
    },
    {
     "data": {
      "application/vnd.jupyter.widget-view+json": {
       "model_id": "bd7ad39f06a84606b16136a069e2d094",
       "version_major": 2,
       "version_minor": 0
      },
      "text/plain": [
       "HBox(children=(Text(value='1/6', description='Die 2 - Probability of 1 ($p_{21}$)', layout=Layout(width='30%')…"
      ]
     },
     "metadata": {},
     "output_type": "display_data"
    },
    {
     "data": {
      "application/vnd.jupyter.widget-view+json": {
       "model_id": "46f16a6c13fe494b8bbc9e7683168410",
       "version_major": 2,
       "version_minor": 0
      },
      "text/plain": [
       "Output()"
      ]
     },
     "metadata": {},
     "output_type": "display_data"
    }
   ],
   "source": [
    "display(v_Dice1, v_Dice2, v_out)"
   ]
  },
  {
   "cell_type": "markdown",
   "metadata": {
    "slideshow": {
     "slide_type": "fragment"
    }
   },
   "source": [
    "- $\\sum_x (x-E[X])^2 \\cdot f_X(x)$; this value is known as the **Variance ($Var[X]$)**\n",
    "- Measures the \"spread\" of the distribution centred about the mean ($E[X]$)."
   ]
  },
  {
   "cell_type": "markdown",
   "metadata": {
    "slideshow": {
     "slide_type": "slide"
    }
   },
   "source": [
    "## 2.2.1 Example of Expectation & Variance for Discrete RV: Random Walk\n",
    "- Recall the random walk PMF we derived at the end of Lecture 3, where $x$ denoted the position of the particle after $n$ steps.\n",
    "- Let's vary the parameters to see how the $E[X]$ (the expected position of the particle) and $Var[X]$ (the spread of the PMF) change. \n",
    "    - First start from $n=1$ and $p=0.5$ and increase $n$\n",
    "    - Then for a fixed value of $n$, change $p$"
   ]
  },
  {
   "cell_type": "code",
   "execution_count": 10,
   "metadata": {
    "slideshow": {
     "slide_type": "fragment"
    }
   },
   "outputs": [
    {
     "data": {
      "application/vnd.jupyter.widget-view+json": {
       "model_id": "7174236e7dc34b789af5608cbdf49120",
       "version_major": 2,
       "version_minor": 0
      },
      "text/plain": [
       "HBox(children=(VBox(children=(IntSlider(value=4, continuous_update=False, description='Steps:', layout=Layout(…"
      ]
     },
     "metadata": {},
     "output_type": "display_data"
    },
    {
     "data": {
      "application/vnd.jupyter.widget-view+json": {
       "model_id": "c9a8e52ec4694c7e9b9bf4eb073b924a",
       "version_major": 2,
       "version_minor": 0
      },
      "text/plain": [
       "Output()"
      ]
     },
     "metadata": {},
     "output_type": "display_data"
    }
   ],
   "source": [
    "display(HBox([VBox([steps_islider, p_islider], layout=Layout(width='50%')), mean_var_text], layout = Layout(display = 'flex', align_items = 'center')), rw_out)"
   ]
  },
  {
   "cell_type": "markdown",
   "metadata": {
    "slideshow": {
     "slide_type": "slide"
    }
   },
   "source": [
    "## 2.2.2 Expectation/Variance for a Function of a Discrete RV\n",
    "- We can define an expectation in general terms for any function $g(X)$ of a discrete random variable $X$:$$E[g(X)] = \\sum_{\\forall x} g(x)\\; f_X(x)$$\n",
    "\n",
    "- From this definition we can derive some basic properties.  For instance, consider the case where $g(X) = aX + b$:\n",
    "$$E[aX+b] = \\sum_{\\forall x} (ax + b) \\; f_X(x) = a E[X] + b$$"
   ]
  },
  {
   "cell_type": "code",
   "execution_count": 11,
   "metadata": {
    "slideshow": {
     "slide_type": "fragment"
    }
   },
   "outputs": [
    {
     "data": {
      "text/latex": [
       "\\begin{align}\n",
       "              E[aX + b] &= \\sum_{\\forall x} (ax + b) \\; f_X(x) \\\\\n",
       "              &= \\sum_{\\forall x} ax \\; f_X(x) + \\sum_{\\forall x} b \\; f_X(x) \\\\\n",
       "              &= a \\sum_{\\forall x} x \\; f_X(x) + b \\sum_{\\forall x} f_X(x) \\qquad \\big(\\sum_{\\forall x} f_X(x) = 1\\big)\\\\\n",
       "              &= a E[X] + b \\times 1 = aE[X] + b\n",
       "              \\end{align}"
      ],
      "text/plain": [
       "<IPython.core.display.Latex object>"
      ]
     },
     "execution_count": 11,
     "metadata": {},
     "output_type": "execute_result"
    }
   ],
   "source": [
    "Latex(NOTE_4C)"
   ]
  },
  {
   "cell_type": "markdown",
   "metadata": {
    "slideshow": {
     "slide_type": "slide"
    }
   },
   "source": [
    "## 2.2.2 Expectation of a Discrete RV\n",
    "- Example: A fair coin is flipped until the first tails appears.  The winnings are as follows:\n",
    "\\begin{align}\n",
    "\\text{Tails appears on first toss } & & \\$2 \\\\\n",
    "\\text{Tails appears on second toss } & & \\$4 \\\\\n",
    "& & \\vdots \\\\\n",
    "\\text{Tails appears on $k$th toss } & & \\$2^k \n",
    "\\end{align}\n",
    "- Define random variable $X$ to denote your winnings.  How much should you pay in order for this to be a fair game?\n",
    "<i class=\"fa fa-info-circle fa-2x\" title=\"The password the expected value for the St. Petersburg paradox\"></i>"
   ]
  },
  {
   "cell_type": "code",
   "execution_count": 12,
   "metadata": {
    "slideshow": {
     "slide_type": "fragment"
    }
   },
   "outputs": [
    {
     "data": {
      "text/markdown": [
       "\\begin{align}\n",
       "               f_X(2^k) = P(X = 2^k) = \\left( \\frac{1}{2} \\right)^k = \\frac{1}{2^k} \\qquad k = 1, 2, 3, \\dots \\\\\n",
       "               \\textit{(Independent flips of a fair coin)} \\\\\n",
       "               E[X] = \\sum_k (2^k) \\cdot \\frac{1}{2^k} = 1 + 1 + 1 + \\dots \\\\\n",
       "               \\textbf{To be a fair game, we would need to pay \\$$\\infty$!}\n",
       "               \\end{align}"
      ],
      "text/plain": [
       "<IPython.core.display.Markdown object>"
      ]
     },
     "execution_count": 12,
     "metadata": {},
     "output_type": "execute_result"
    }
   ],
   "source": [
    "display_answer(question=3, password='infinity')"
   ]
  },
  {
   "cell_type": "markdown",
   "metadata": {
    "slideshow": {
     "slide_type": "slide"
    }
   },
   "source": [
    "## 2.2.2 Expectation/Variance for a Function of a Discrete RV\n",
    "- Using this formal definition for $E[X]$, we can reformulate the variance of a discrete random variable $X$ as the expectation of the squared difference between $X$ and its mean: $E[(X-E[X])^2]$\n",
    "$$Var[X] = E[(X - E[X])^2] = E[X^2] - E[X]^2$$"
   ]
  },
  {
   "cell_type": "markdown",
   "metadata": {
    "slideshow": {
     "slide_type": "-"
    }
   },
   "source": [
    "- Pause and Reflect 1: Where did the latter expression for the variance come from? <i class=\"fa fa-info-circle fa-2x\" title=\"The password the operation we need to apply to the squared term\"></i>"
   ]
  },
  {
   "cell_type": "code",
   "execution_count": 13,
   "metadata": {
    "slideshow": {
     "slide_type": "-"
    }
   },
   "outputs": [
    {
     "data": {
      "text/markdown": [
       "\\begin{align}\n",
       "               \\left( X - E[X] \\right)^2 &= X^2 - 2XE[X] + E[X]^2 \\\\\n",
       "               &= X^2 - 2X\\mu + \\mu^2 \\qquad \\mu = E[X] \\;\\; \\textit{(const)} \\\\\n",
       "               E[X^2 - 2X\\mu + \\mu^2] &= E[X^2] - 2\\mu^2 + \\mu^2 \\\\\n",
       "               &= E[X^2] - \\mu^2 \\\\\n",
       "               \\end{align}"
      ],
      "text/plain": [
       "<IPython.core.display.Markdown object>"
      ]
     },
     "execution_count": 13,
     "metadata": {},
     "output_type": "execute_result"
    }
   ],
   "source": [
    "display_answer(question=4, password='expand quadratic')"
   ]
  },
  {
   "cell_type": "markdown",
   "metadata": {
    "slideshow": {
     "slide_type": "slide"
    }
   },
   "source": [
    "- Pause and Reflect 2: What happens to the variance if we multiply a random variable by some constant (i.e. $Var[aX]$)? <i class=\"fa fa-info-circle fa-2x\" title=\"The password the factor we need to multiple the variance by\"></i>"
   ]
  },
  {
   "cell_type": "code",
   "execution_count": 14,
   "metadata": {
    "slideshow": {
     "slide_type": "-"
    }
   },
   "outputs": [
    {
     "data": {
      "text/markdown": [
       "\\begin{align}\n",
       "               Var[ax] &= E[a^2x^2] - \\left( E[ax] \\right)^2 \\\\\n",
       "               &= a^2 E[X^2] - a^2 E[X]^2 = a^2 Var[X] \\\\\n",
       "               \\end{align}"
      ],
      "text/plain": [
       "<IPython.core.display.Markdown object>"
      ]
     },
     "execution_count": 14,
     "metadata": {},
     "output_type": "execute_result"
    }
   ],
   "source": [
    "display_answer(question=5, password='a^2')"
   ]
  },
  {
   "cell_type": "markdown",
   "metadata": {
    "slideshow": {
     "slide_type": "slide"
    }
   },
   "source": [
    "- Pause and Reflect 3: What happens to the variance if we translate a random variable by some constant (i.e. $Var[X+a]$)? <i class=\"fa fa-info-circle fa-2x\" title=\"The password the factor we need to multiple the variance by\"></i>  "
   ]
  },
  {
   "cell_type": "code",
   "execution_count": 15,
   "metadata": {
    "slideshow": {
     "slide_type": "-"
    }
   },
   "outputs": [
    {
     "data": {
      "text/markdown": [
       "\\begin{align}\n",
       "               (X + a)^2 &= X^2 + 2aX + a^2 \\\\\n",
       "               E[(X + a)^2] &= E[X^2] + 2aE[X] + a^2 \\\\\n",
       "               (E[(X + a)^2])^2 &= (E[X] + a)^2 \\\\\n",
       "               &= E[X]^2 + 2aE[X] + a^2 \\\\\n",
       "               Var[X + a] &= E[X^2] - E[X]^2 = Var[X]\n",
       "               \\end{align}"
      ],
      "text/plain": [
       "<IPython.core.display.Markdown object>"
      ]
     },
     "execution_count": 15,
     "metadata": {},
     "output_type": "execute_result"
    }
   ],
   "source": [
    "display_answer(question=6, password='1')"
   ]
  },
  {
   "cell_type": "markdown",
   "metadata": {
    "slideshow": {
     "slide_type": "slide"
    }
   },
   "source": [
    "## Summary\n",
    "- The probability distribution for **discrete** random variables is given by a Probability Mass Function (PMF): $f_X(x)$\n",
    "- Moments of PMF provide complementary functions (CDF: $F_X(x)$) and useful descriptors of the distribution in the form of scalar quantites (Expectation: $E[X]$; Variance: $Var[X]$).  \n",
    "- The moments derived are summarised below:\n",
    "\\begin{align}\n",
    "M_{\\color{blue}{n}}^{\\color{red}{c}} &= \\sum_{\\forall x} (x-\\color{red}{c})^{\\color{blue}{n}} f_X(x) \\\\\n",
    "M_{\\color{blue}{0}}^{\\color{red}{0}} &= \\sum_{\\forall x} f_X(x) \\quad \\color{green}{(\\text{CDF: } F_X(x) = \\sum_{u \\le x} f_X(u))} \\\\\n",
    "M_{\\color{blue}{1}}^{\\color{red}{0}} &= \\sum_{\\forall x} x \\; f_X(x) \\quad \\color{green}{(= E[X])} \\\\\n",
    "M_{\\color{blue}{2}}^{\\color{red}{E[X]}} &= \\sum_{\\forall x} (x-\\color{red}{E[X]})^{\\color{blue}{2}} \\; f_X(x) \\quad \\color{green}{(= Var[X])} \n",
    "\\end{align}\n",
    "\n",
    "- Next we will derive analogous expressions for continuous RVs"
   ]
  }
 ],
 "metadata": {
  "celltoolbar": "Slideshow",
  "kernelspec": {
   "display_name": "Python 3",
   "language": "python",
   "name": "python3"
  },
  "language_info": {
   "codemirror_mode": {
    "name": "ipython",
    "version": 3
   },
   "file_extension": ".py",
   "mimetype": "text/x-python",
   "name": "python",
   "nbconvert_exporter": "python",
   "pygments_lexer": "ipython3",
   "version": "3.6.5"
  },
  "rise": {
   "scroll": true
  }
 },
 "nbformat": 4,
 "nbformat_minor": 2
}
